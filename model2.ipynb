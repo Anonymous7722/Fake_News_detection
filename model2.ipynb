{
 "cells": [
  {
   "cell_type": "code",
   "execution_count": 3,
   "id": "197c1548",
   "metadata": {},
   "outputs": [],
   "source": [
    "import pandas as pd\n",
    "import numpy as np\n",
    "import matplotlib.pyplot as plt\n",
    "from nltk.corpus import stopwords\n",
    "from nltk.stem.porter import PorterStemmer\n",
    "from sklearn.model_selection import train_test_split\n",
    "from sklearn.linear_model import LogisticRegression\n",
    "from sklearn.feature_extraction.text import TfidfVectorizer\n",
    "import pickle\n",
    "from imblearn.under_sampling import RandomUnderSampler\n",
    "import re"
   ]
  },
  {
   "cell_type": "code",
   "execution_count": 2,
   "id": "d4987f86",
   "metadata": {},
   "outputs": [
    {
     "data": {
      "text/html": [
       "<div>\n",
       "<style scoped>\n",
       "    .dataframe tbody tr th:only-of-type {\n",
       "        vertical-align: middle;\n",
       "    }\n",
       "\n",
       "    .dataframe tbody tr th {\n",
       "        vertical-align: top;\n",
       "    }\n",
       "\n",
       "    .dataframe thead th {\n",
       "        text-align: right;\n",
       "    }\n",
       "</style>\n",
       "<table border=\"1\" class=\"dataframe\">\n",
       "  <thead>\n",
       "    <tr style=\"text-align: right;\">\n",
       "      <th></th>\n",
       "      <th>text</th>\n",
       "      <th>label</th>\n",
       "    </tr>\n",
       "  </thead>\n",
       "  <tbody>\n",
       "    <tr>\n",
       "      <th>0</th>\n",
       "      <td>washington reuter head conserv republican fact...</td>\n",
       "      <td>1</td>\n",
       "    </tr>\n",
       "    <tr>\n",
       "      <th>1</th>\n",
       "      <td>washington reuter transgend peopl allow first ...</td>\n",
       "      <td>1</td>\n",
       "    </tr>\n",
       "    <tr>\n",
       "      <th>2</th>\n",
       "      <td>washington reuter special counsel investig lin...</td>\n",
       "      <td>1</td>\n",
       "    </tr>\n",
       "    <tr>\n",
       "      <th>3</th>\n",
       "      <td>washington reuter trump campaign advis georg p...</td>\n",
       "      <td>1</td>\n",
       "    </tr>\n",
       "    <tr>\n",
       "      <th>4</th>\n",
       "      <td>seattl washington reuter presid donald trump c...</td>\n",
       "      <td>1</td>\n",
       "    </tr>\n",
       "  </tbody>\n",
       "</table>\n",
       "</div>"
      ],
      "text/plain": [
       "                                                text  label\n",
       "0  washington reuter head conserv republican fact...      1\n",
       "1  washington reuter transgend peopl allow first ...      1\n",
       "2  washington reuter special counsel investig lin...      1\n",
       "3  washington reuter trump campaign advis georg p...      1\n",
       "4  seattl washington reuter presid donald trump c...      1"
      ]
     },
     "execution_count": 2,
     "metadata": {},
     "output_type": "execute_result"
    }
   ],
   "source": [
    "df=pickle.load(open('stem_data.pkl','rb'))\n",
    "df=pd.DataFrame(df)\n",
    "df.head()"
   ]
  },
  {
   "cell_type": "code",
   "execution_count": 22,
   "id": "657b6831",
   "metadata": {},
   "outputs": [],
   "source": [
    "x=df[['text']]\n",
    "y=df.iloc[:,-1]"
   ]
  },
  {
   "cell_type": "code",
   "execution_count": 23,
   "id": "077302ff",
   "metadata": {},
   "outputs": [],
   "source": [
    "x_train,x_test,y_train,y_test = train_test_split(x,y,test_size=0.2,random_state=2)"
   ]
  },
  {
   "cell_type": "code",
   "execution_count": 24,
   "id": "379bd2f9",
   "metadata": {},
   "outputs": [],
   "source": [
    "rus = RandomUnderSampler(random_state=2, sampling_strategy = 'majority')"
   ]
  },
  {
   "cell_type": "code",
   "execution_count": 25,
   "id": "b9454cf3",
   "metadata": {},
   "outputs": [],
   "source": [
    "x_res,y_res = rus.fit_resample(x,y)"
   ]
  },
  {
   "cell_type": "code",
   "execution_count": 26,
   "id": "b71246dc",
   "metadata": {},
   "outputs": [
    {
     "data": {
      "text/plain": [
       "445      donald trump drag us war north korea could wit...\n",
       "778      total noth els better trump administr crack ma...\n",
       "892      alleg presid donald trump announc twitter time...\n",
       "896      get readi donald trump throw worst temper tant...\n",
       "974      white hous counselor kellyann conway like call...\n",
       "                               ...                        \n",
       "14056    brussel reuter british prime minist theresa ma...\n",
       "21085    xiamen china reuter nation bric group strongli...\n",
       "8380     washington reuter u presid barack obama still ...\n",
       "14114    geneva reuter syrian besieg enclav eastern gho...\n",
       "7373     washington reuter u senat major leader mitch m...\n",
       "Name: text, Length: 4540, dtype: object"
      ]
     },
     "execution_count": 26,
     "metadata": {},
     "output_type": "execute_result"
    }
   ],
   "source": [
    "x_res=x_res['text']\n",
    "x_res"
   ]
  },
  {
   "cell_type": "code",
   "execution_count": 27,
   "id": "a3fa0f9a",
   "metadata": {},
   "outputs": [],
   "source": [
    "x_train,x_test,y_train,y_test = train_test_split(x_res,y_res,test_size=0.2,random_state=2)"
   ]
  },
  {
   "cell_type": "code",
   "execution_count": 28,
   "id": "a6968f1a",
   "metadata": {},
   "outputs": [
    {
     "data": {
      "text/plain": [
       "array([[0., 0., 0., ..., 0., 0., 0.],\n",
       "       [0., 0., 0., ..., 0., 0., 0.],\n",
       "       [0., 0., 0., ..., 0., 0., 0.],\n",
       "       ...,\n",
       "       [0., 0., 0., ..., 0., 0., 0.],\n",
       "       [0., 0., 0., ..., 0., 0., 0.],\n",
       "       [0., 0., 0., ..., 0., 0., 0.]])"
      ]
     },
     "execution_count": 28,
     "metadata": {},
     "output_type": "execute_result"
    }
   ],
   "source": [
    "port_stem = PorterStemmer()\n",
    "vect=TfidfVectorizer()\n",
    "lr = LogisticRegression()\n",
    "x_train_vector = vect.fit_transform(x_train).toarray()\n",
    "x_test_vector = vect.transform(x_test).toarray()\n",
    "x_train_vector"
   ]
  },
  {
   "cell_type": "code",
   "execution_count": 30,
   "id": "4ff9e411",
   "metadata": {},
   "outputs": [
    {
     "data": {
      "text/html": [
       "<style>#sk-container-id-1 {color: black;}#sk-container-id-1 pre{padding: 0;}#sk-container-id-1 div.sk-toggleable {background-color: white;}#sk-container-id-1 label.sk-toggleable__label {cursor: pointer;display: block;width: 100%;margin-bottom: 0;padding: 0.3em;box-sizing: border-box;text-align: center;}#sk-container-id-1 label.sk-toggleable__label-arrow:before {content: \"▸\";float: left;margin-right: 0.25em;color: #696969;}#sk-container-id-1 label.sk-toggleable__label-arrow:hover:before {color: black;}#sk-container-id-1 div.sk-estimator:hover label.sk-toggleable__label-arrow:before {color: black;}#sk-container-id-1 div.sk-toggleable__content {max-height: 0;max-width: 0;overflow: hidden;text-align: left;background-color: #f0f8ff;}#sk-container-id-1 div.sk-toggleable__content pre {margin: 0.2em;color: black;border-radius: 0.25em;background-color: #f0f8ff;}#sk-container-id-1 input.sk-toggleable__control:checked~div.sk-toggleable__content {max-height: 200px;max-width: 100%;overflow: auto;}#sk-container-id-1 input.sk-toggleable__control:checked~label.sk-toggleable__label-arrow:before {content: \"▾\";}#sk-container-id-1 div.sk-estimator input.sk-toggleable__control:checked~label.sk-toggleable__label {background-color: #d4ebff;}#sk-container-id-1 div.sk-label input.sk-toggleable__control:checked~label.sk-toggleable__label {background-color: #d4ebff;}#sk-container-id-1 input.sk-hidden--visually {border: 0;clip: rect(1px 1px 1px 1px);clip: rect(1px, 1px, 1px, 1px);height: 1px;margin: -1px;overflow: hidden;padding: 0;position: absolute;width: 1px;}#sk-container-id-1 div.sk-estimator {font-family: monospace;background-color: #f0f8ff;border: 1px dotted black;border-radius: 0.25em;box-sizing: border-box;margin-bottom: 0.5em;}#sk-container-id-1 div.sk-estimator:hover {background-color: #d4ebff;}#sk-container-id-1 div.sk-parallel-item::after {content: \"\";width: 100%;border-bottom: 1px solid gray;flex-grow: 1;}#sk-container-id-1 div.sk-label:hover label.sk-toggleable__label {background-color: #d4ebff;}#sk-container-id-1 div.sk-serial::before {content: \"\";position: absolute;border-left: 1px solid gray;box-sizing: border-box;top: 0;bottom: 0;left: 50%;z-index: 0;}#sk-container-id-1 div.sk-serial {display: flex;flex-direction: column;align-items: center;background-color: white;padding-right: 0.2em;padding-left: 0.2em;position: relative;}#sk-container-id-1 div.sk-item {position: relative;z-index: 1;}#sk-container-id-1 div.sk-parallel {display: flex;align-items: stretch;justify-content: center;background-color: white;position: relative;}#sk-container-id-1 div.sk-item::before, #sk-container-id-1 div.sk-parallel-item::before {content: \"\";position: absolute;border-left: 1px solid gray;box-sizing: border-box;top: 0;bottom: 0;left: 50%;z-index: -1;}#sk-container-id-1 div.sk-parallel-item {display: flex;flex-direction: column;z-index: 1;position: relative;background-color: white;}#sk-container-id-1 div.sk-parallel-item:first-child::after {align-self: flex-end;width: 50%;}#sk-container-id-1 div.sk-parallel-item:last-child::after {align-self: flex-start;width: 50%;}#sk-container-id-1 div.sk-parallel-item:only-child::after {width: 0;}#sk-container-id-1 div.sk-dashed-wrapped {border: 1px dashed gray;margin: 0 0.4em 0.5em 0.4em;box-sizing: border-box;padding-bottom: 0.4em;background-color: white;}#sk-container-id-1 div.sk-label label {font-family: monospace;font-weight: bold;display: inline-block;line-height: 1.2em;}#sk-container-id-1 div.sk-label-container {text-align: center;}#sk-container-id-1 div.sk-container {/* jupyter's `normalize.less` sets `[hidden] { display: none; }` but bootstrap.min.css set `[hidden] { display: none !important; }` so we also need the `!important` here to be able to override the default hidden behavior on the sphinx rendered scikit-learn.org. See: https://github.com/scikit-learn/scikit-learn/issues/21755 */display: inline-block !important;position: relative;}#sk-container-id-1 div.sk-text-repr-fallback {display: none;}</style><div id=\"sk-container-id-1\" class=\"sk-top-container\"><div class=\"sk-text-repr-fallback\"><pre>LogisticRegression()</pre><b>In a Jupyter environment, please rerun this cell to show the HTML representation or trust the notebook. <br />On GitHub, the HTML representation is unable to render, please try loading this page with nbviewer.org.</b></div><div class=\"sk-container\" hidden><div class=\"sk-item\"><div class=\"sk-estimator sk-toggleable\"><input class=\"sk-toggleable__control sk-hidden--visually\" id=\"sk-estimator-id-1\" type=\"checkbox\" checked><label for=\"sk-estimator-id-1\" class=\"sk-toggleable__label sk-toggleable__label-arrow\">LogisticRegression</label><div class=\"sk-toggleable__content\"><pre>LogisticRegression()</pre></div></div></div></div></div>"
      ],
      "text/plain": [
       "LogisticRegression()"
      ]
     },
     "execution_count": 30,
     "metadata": {},
     "output_type": "execute_result"
    }
   ],
   "source": [
    "lr.fit(x_train_vector,y_train)"
   ]
  },
  {
   "cell_type": "code",
   "execution_count": 31,
   "id": "0ea3418c",
   "metadata": {},
   "outputs": [],
   "source": [
    "def Fake_news(news):\n",
    "    te = re.sub('[^a-zA-Z]',' ',news)\n",
    "    te = te.lower()\n",
    "    te = te.split()\n",
    "    te = [port_stem.stem(word) for word in te if not word in stopwords.words('english')]\n",
    "    te = ' '.join(te)\n",
    "    te=[te]\n",
    "    te = vect.transform(te).toarray()\n",
    "    te=lr.predict(te)\n",
    "    return te"
   ]
  },
  {
   "cell_type": "code",
   "execution_count": 39,
   "id": "5657380b",
   "metadata": {},
   "outputs": [],
   "source": [
    "true=pd.read_csv('True.csv')\n",
    "fake=pd.read_csv('Fake.csv')"
   ]
  },
  {
   "cell_type": "code",
   "execution_count": 67,
   "id": "d0e2892b",
   "metadata": {},
   "outputs": [],
   "source": [
    "true=true[['text']]\n",
    "news=true.iloc[20000].values[0]"
   ]
  },
  {
   "cell_type": "code",
   "execution_count": 76,
   "id": "57b13765",
   "metadata": {},
   "outputs": [],
   "source": [
    "fake=fake[['text']]\n",
    "news=fake.iloc[2000].values[0]"
   ]
  },
  {
   "cell_type": "code",
   "execution_count": 74,
   "id": "60af7123",
   "metadata": {},
   "outputs": [
    {
     "data": {
      "text/plain": [
       "array([0], dtype=int64)"
      ]
     },
     "execution_count": 74,
     "metadata": {},
     "output_type": "execute_result"
    }
   ],
   "source": [
    "Fake_news(news)"
   ]
  },
  {
   "cell_type": "code",
   "execution_count": 48,
   "id": "3345219a",
   "metadata": {},
   "outputs": [
    {
     "data": {
      "text/plain": [
       "97.13656387665198"
      ]
     },
     "execution_count": 48,
     "metadata": {},
     "output_type": "execute_result"
    }
   ],
   "source": [
    "lr.score(x_test_vector,y_test)*100"
   ]
  },
  {
   "cell_type": "code",
   "execution_count": 77,
   "id": "9eb12180",
   "metadata": {},
   "outputs": [
    {
     "data": {
      "text/plain": [
       "'No matter what Donald Trump does or where he goes, he s never actually doing the right thing and fulfilling his duties as POTUS.One might think that after suffering such a monstrous fail with his American Health Care Act, the president might double down and get right back to work on his quest to somehow  improve  Obamacare, which he insists is awful despite the fact the Americans overwhelmingly approve of it. But no   instead, Trump decided to spend his Saturday the way he s spent pretty much every Saturday since he became president   by playing golf.In the short 9 weeks of his presidency, Trump has already gone golfing 12 times   which is far more than any of his predecessors and former President Barack Obama, whom Trump once criticized for taking any downtime to play golf. Trump has been getting blasted for his weekend golfing getaways, and the White House has gone to great lengths to hide it:However, Trump s cover was blown when some Instagram photographs of Trump surfaced, revealing to Americans what Trump REALLY does when he has his  meetings. Pool was told Trump was in meetings at Trump National this afternoon. This Instagram photo posted from the course says otherwise pic.twitter.com/WMudqofGmO  Josh Billinson (@jbillinson) March 25, 2017As you can imagine, the internet didn t take kindly to being lied to, and went after Trump. One of the gems that resurfaced from this Twitter attack was this amazing old tweet from White House Press Secretary Sean Spicer   which is going to basically make Trump explode:Wow. That s one tweet Spicer probably wish he d never posted during Obama s presidency, because now it s insulting HIS boss! To make this even more humiliating for Spicer and Trump, Spicer recently defended Trump s  privacy  when he was questioned about how often Trump golfs.Twitter is basically losing it over this hypocrisy, and we can t help but laugh along:@seanspicer ? pic.twitter.com/pw2LQVmW1h  Parts Unknown (@nia_negasi) March 25, 2017   Featured images via Gage Skidmore / Flickr'"
      ]
     },
     "execution_count": 77,
     "metadata": {},
     "output_type": "execute_result"
    }
   ],
   "source": [
    "news"
   ]
  },
  {
   "cell_type": "code",
   "execution_count": 58,
   "id": "ce0ad98b",
   "metadata": {},
   "outputs": [],
   "source": [
    "pickle.dump(lr,open('lr.pkl','wb'))"
   ]
  },
  {
   "cell_type": "code",
   "execution_count": 60,
   "id": "1dde1ae5",
   "metadata": {},
   "outputs": [],
   "source": [
    "l2=pickle.load(open('lr.pkl','rb'))"
   ]
  },
  {
   "cell_type": "code",
   "execution_count": 63,
   "id": "d519ba2d",
   "metadata": {},
   "outputs": [],
   "source": [
    "pickle.dump(vect,open('vect.pkl','wb'))"
   ]
  },
  {
   "cell_type": "code",
   "execution_count": null,
   "id": "46b6692b",
   "metadata": {},
   "outputs": [],
   "source": []
  }
 ],
 "metadata": {
  "kernelspec": {
   "display_name": "Python 3",
   "language": "python",
   "name": "python3"
  },
  "language_info": {
   "codemirror_mode": {
    "name": "ipython",
    "version": 3
   },
   "file_extension": ".py",
   "mimetype": "text/x-python",
   "name": "python",
   "nbconvert_exporter": "python",
   "pygments_lexer": "ipython3",
   "version": "3.11.9"
  }
 },
 "nbformat": 4,
 "nbformat_minor": 5
}
